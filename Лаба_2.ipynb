{
  "nbformat": 4,
  "nbformat_minor": 0,
  "metadata": {
    "colab": {
      "provenance": []
    },
    "kernelspec": {
      "name": "python3",
      "display_name": "Python 3"
    },
    "language_info": {
      "name": "python"
    }
  },
  "cells": [
    {
      "cell_type": "code",
      "execution_count": 6,
      "metadata": {
        "id": "e_X1Q4ptFAR8",
        "colab": {
          "base_uri": "https://localhost:8080/"
        },
        "outputId": "783a7a93-21b5-4165-a14f-1509db9cf6bd"
      },
      "outputs": [
        {
          "output_type": "stream",
          "name": "stdout",
          "text": [
            "https://api.hh.ru/vacancies?text=Разработчик&per_page=100&search_field=name&page=0\n",
            "https://api.hh.ru/vacancies?text=Разработчик&per_page=100&search_field=name&page=1\n",
            "https://api.hh.ru/vacancies?text=Разработчик&per_page=100&search_field=name&page=2\n",
            "https://api.hh.ru/vacancies?text=Разработчик&per_page=100&search_field=name&page=3\n",
            "https://api.hh.ru/vacancies?text=Разработчик&per_page=100&search_field=name&page=4\n",
            "https://api.hh.ru/vacancies?text=Разработчик&per_page=100&search_field=name&page=5\n",
            "https://api.hh.ru/vacancies?text=Разработчик&per_page=100&search_field=name&page=6\n",
            "https://api.hh.ru/vacancies?text=Разработчик&per_page=100&search_field=name&page=7\n",
            "https://api.hh.ru/vacancies?text=Разработчик&per_page=100&search_field=name&page=8\n",
            "https://api.hh.ru/vacancies?text=Разработчик&per_page=100&search_field=name&page=9\n",
            "https://api.hh.ru/vacancies?text=Разработчик&per_page=100&search_field=name&page=10\n",
            "https://api.hh.ru/vacancies?text=Разработчик&per_page=100&search_field=name&page=11\n",
            "https://api.hh.ru/vacancies?text=Разработчик&per_page=100&search_field=name&page=12\n",
            "https://api.hh.ru/vacancies?text=Разработчик&per_page=100&search_field=name&page=13\n",
            "https://api.hh.ru/vacancies?text=Разработчик&per_page=100&search_field=name&page=14\n",
            "https://api.hh.ru/vacancies?text=Разработчик&per_page=100&search_field=name&page=15\n",
            "https://api.hh.ru/vacancies?text=Разработчик&per_page=100&search_field=name&page=16\n",
            "https://api.hh.ru/vacancies?text=Разработчик&per_page=100&search_field=name&page=17\n",
            "https://api.hh.ru/vacancies?text=Разработчик&per_page=100&search_field=name&page=18\n",
            "https://api.hh.ru/vacancies?text=Разработчик&per_page=100&search_field=name&page=19\n"
          ]
        }
      ],
      "source": [
        "import requests\n",
        "import numpy as np\n",
        "\n",
        "def sal(x):\n",
        "  if x['salary'] is not None:\n",
        "    return [x['salary']['from'], x['salary']['to'], x['salary']['currency'], x['salary']['gross']]\n",
        "  else:\n",
        "    return [None]*4\n",
        "vacancies = []\n",
        "\n",
        "for i in range(20):\n",
        "  URL='https://api.hh.ru/vacancies?text=Разработчик&per_page=100&search_field=name&page={}'.format(str(i))\n",
        "  print(URL)\n",
        "  js=requests.get(URL).json()['items']\n",
        "  vacancies+=[[x['id'],x['name']]+sal(x) for x in js]"
      ]
    },
    {
      "cell_type": "code",
      "source": [
        "def mean_sal(x):\n",
        "  if(x[2]is not None) and (x[3] is not None ):\n",
        "    return np.mean([x[2],x[3]]) \n",
        "  elif x[2] is not None:\n",
        "    return x[2]\n",
        "  else:\n",
        "    return x[3]\n",
        "\n",
        "mean_sal_list=[mean_sal(x) for x in vacancies]\n",
        "\n",
        "mean_sal_list[:5]"
      ],
      "metadata": {
        "colab": {
          "base_uri": "https://localhost:8080/"
        },
        "id": "vV3J0xvtH36M",
        "outputId": "0fcfa29f-28c6-4699-a48b-451d81b8265b"
      },
      "execution_count": 8,
      "outputs": [
        {
          "output_type": "execute_result",
          "data": {
            "text/plain": [
              "[600000, 75000.0, 300000, 550000.0, 1800000.0]"
            ]
          },
          "metadata": {},
          "execution_count": 8
        }
      ]
    },
    {
      "cell_type": "code",
      "source": [
        "Q1=np.quantile(list(filter(lambda x: x is not None, mean_sal_list)),0.25)\n",
        "Q3=np.quantile(list(filter(lambda x: x is not None, mean_sal_list)), 0.75)\n",
        "IQR=Q3-Q1\n",
        "\n",
        "print(Q1,Q3,IQR, Q1-IQR*1.5,Q3+IQR*1.5)"
      ],
      "metadata": {
        "id": "eVxorUigFKtM",
        "colab": {
          "base_uri": "https://localhost:8080/"
        },
        "outputId": "e1693af6-dac1-4db9-e32b-b389934ed5f3"
      },
      "execution_count": 9,
      "outputs": [
        {
          "output_type": "stream",
          "name": "stdout",
          "text": [
            "65000.0 200000.0 135000.0 -137500.0 402500.0\n"
          ]
        }
      ]
    },
    {
      "cell_type": "code",
      "source": [],
      "metadata": {
        "id": "zpuIwICaK_Up"
      },
      "execution_count": null,
      "outputs": []
    }
  ]
}